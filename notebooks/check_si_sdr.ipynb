{
 "cells": [
  {
   "cell_type": "code",
   "execution_count": 1,
   "metadata": {},
   "outputs": [
    {
     "name": "stderr",
     "output_type": "stream",
     "text": [
      "/home/xianghao/mambaforge/envs/ndns/lib/python3.10/site-packages/tqdm/auto.py:21: TqdmWarning: IProgress not found. Please update jupyter and ipywidgets. See https://ipywidgets.readthedocs.io/en/stable/user_install.html\n",
      "  from .autonotebook import tqdm as notebook_tqdm\n"
     ]
    }
   ],
   "source": [
    "import numpy as np\n",
    "import torch"
   ]
  },
  {
   "cell_type": "code",
   "execution_count": 24,
   "metadata": {},
   "outputs": [],
   "source": [
    "def si_snr(x, s, eps=1e-8):\n",
    "    \"\"\"\n",
    "\n",
    "    Args:\n",
    "        x: Enhanced fo shape [B, T]\n",
    "        s: Reference of shape [B, T]\n",
    "        eps:\n",
    "\n",
    "    Returns:\n",
    "        si_snr: [B]\n",
    "    \"\"\"\n",
    "\n",
    "    def l2norm(mat, keep_dim=False):\n",
    "        return torch.norm(mat, dim=-1, keepdim=keep_dim)\n",
    "\n",
    "    if x.shape != s.shape:\n",
    "        raise RuntimeError(\n",
    "            f\"Dimension mismatch when calculate si_snr, {x.shape} vs {s.shape}\"\n",
    "        )\n",
    "\n",
    "    x_zm = x - torch.mean(x, dim=-1, keepdim=True)\n",
    "    s_zm = s - torch.mean(s, dim=-1, keepdim=True)\n",
    "\n",
    "    t = (\n",
    "        torch.sum(x_zm * s_zm, dim=-1, keepdim=True)\n",
    "        * s_zm\n",
    "        / (l2norm(s_zm, keep_dim=True) ** 2 + eps)\n",
    "    )\n",
    "\n",
    "    return -torch.mean(20 * torch.log10(l2norm(t) / (l2norm(x_zm - t) + eps)))"
   ]
  },
  {
   "cell_type": "code",
   "execution_count": 25,
   "metadata": {},
   "outputs": [],
   "source": [
    "a = torch.rand(2, 16000)\n",
    "b = torch.rand(2, 16000)"
   ]
  },
  {
   "cell_type": "code",
   "execution_count": 26,
   "metadata": {},
   "outputs": [
    {
     "data": {
      "text/plain": [
       "tensor(44.8756)"
      ]
     },
     "execution_count": 26,
     "metadata": {},
     "output_type": "execute_result"
    }
   ],
   "source": [
    "si_snr(a,b)"
   ]
  },
  {
   "cell_type": "code",
   "execution_count": 27,
   "metadata": {},
   "outputs": [],
   "source": [
    "class SISNRLoss(torch.nn.Module):\n",
    "    def __init__(self, EPS=1e-8) -> None:\n",
    "        super().__init__()\n",
    "        self.EPS = EPS\n",
    "\n",
    "    def forward(self, input, target):\n",
    "        if input.shape != target.shape:\n",
    "            raise RuntimeError(\n",
    "                f\"Dimension mismatch when calculate si_snr, {input.shape} vs {target.shape}\"\n",
    "            )\n",
    "\n",
    "        s_input = input - torch.mean(input, dim=-1, keepdim=True)\n",
    "        s_target = target - torch.mean(target, dim=-1, keepdim=True)\n",
    "\n",
    "        # <s, s'> / ||s||**2 * s\n",
    "        pair_wise_dot = torch.sum(s_target * s_input, dim=-1, keepdim=True)\n",
    "        s_target_norm = torch.sum(s_target**2, dim=-1, keepdim=True)\n",
    "        pair_wise_proj = pair_wise_dot * s_target / s_target_norm\n",
    "\n",
    "        e_noise = s_input - pair_wise_proj\n",
    "\n",
    "        pair_wise_sdr = torch.sum(pair_wise_proj**2, dim=-1) / (\n",
    "            torch.sum(e_noise**2, dim=-1) + self.EPS\n",
    "        )\n",
    "        return 10 * torch.log10(pair_wise_sdr + self.EPS)"
   ]
  },
  {
   "cell_type": "code",
   "execution_count": 28,
   "metadata": {},
   "outputs": [
    {
     "data": {
      "text/plain": [
       "tensor(-44.8727)"
      ]
     },
     "execution_count": 28,
     "metadata": {},
     "output_type": "execute_result"
    }
   ],
   "source": [
    "torch.mean(SISNRLoss()(a,b))"
   ]
  }
 ],
 "metadata": {
  "kernelspec": {
   "display_name": "ndns",
   "language": "python",
   "name": "python3"
  },
  "language_info": {
   "codemirror_mode": {
    "name": "ipython",
    "version": 3
   },
   "file_extension": ".py",
   "mimetype": "text/x-python",
   "name": "python",
   "nbconvert_exporter": "python",
   "pygments_lexer": "ipython3",
   "version": "3.10.11"
  },
  "orig_nbformat": 4
 },
 "nbformat": 4,
 "nbformat_minor": 2
}
