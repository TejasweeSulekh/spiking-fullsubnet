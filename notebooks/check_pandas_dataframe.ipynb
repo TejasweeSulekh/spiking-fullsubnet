{
 "cells": [
  {
   "cell_type": "code",
   "execution_count": 3,
   "metadata": {},
   "outputs": [
    {
     "name": "stderr",
     "output_type": "stream",
     "text": [
      "/home/haoxiang/mambaforge/envs/torch11/lib/python3.10/site-packages/tqdm/auto.py:22: TqdmWarning: IProgress not found. Please update jupyter and ipywidgets. See https://ipywidgets.readthedocs.io/en/stable/user_install.html\n",
      "  from .autonotebook import tqdm as notebook_tqdm\n"
     ]
    }
   ],
   "source": [
    "import pandas\n",
    "from torch.utils.tensorboard import SummaryWriter"
   ]
  },
  {
   "cell_type": "code",
   "execution_count": 4,
   "metadata": {},
   "outputs": [],
   "source": [
    "data_dict = [\n",
    "    {\n",
    "        \"fpath\": \"path/to/file.wav\",\n",
    "        \"SR\": 16000,\n",
    "        \"OVRL_raw\": 0.3,\n",
    "        \"OVRL\": 0.4,\n",
    "        \"OVRL_raw\": 0.5,\n",
    "        \"PESQ\": 0.6,\n",
    "        \"STOI\": 0.7,\n",
    "        \"SISDR\": 0.8,\n",
    "    },\n",
    "    {\n",
    "        \"fpath\": \"path/to/file.wav\",\n",
    "        \"SR\": 16000,\n",
    "        \"OVRL_raw\": 0.1,\n",
    "        \"OVRL\": 0.5,\n",
    "        \"OVRL_raw\": 0.7,\n",
    "        \"PESQ\": 0.0,\n",
    "        \"STOI\": 0.2,\n",
    "        \"SISDR\": 0.6,\n",
    "    },\n",
    "    {\n",
    "        \"fpath\": \"path/to/file.wav\",\n",
    "        \"SR\": 16000,\n",
    "        \"OVRL_raw\": 0.7,\n",
    "        \"OVRL\": 0.9,\n",
    "        \"OVRL_raw\": 0.3,\n",
    "        \"PESQ\": 0.9,\n",
    "        \"STOI\": 0.1,\n",
    "        \"SISDR\": 0.3,\n",
    "    },\n",
    "]"
   ]
  },
  {
   "cell_type": "code",
   "execution_count": 5,
   "metadata": {},
   "outputs": [],
   "source": [
    "df = pandas.DataFrame(data_dict)"
   ]
  },
  {
   "cell_type": "code",
   "execution_count": 8,
   "metadata": {},
   "outputs": [
    {
     "data": {
      "text/html": [
       "<div>\n",
       "<style scoped>\n",
       "    .dataframe tbody tr th:only-of-type {\n",
       "        vertical-align: middle;\n",
       "    }\n",
       "\n",
       "    .dataframe tbody tr th {\n",
       "        vertical-align: top;\n",
       "    }\n",
       "\n",
       "    .dataframe thead th {\n",
       "        text-align: right;\n",
       "    }\n",
       "</style>\n",
       "<table border=\"1\" class=\"dataframe\">\n",
       "  <thead>\n",
       "    <tr style=\"text-align: right;\">\n",
       "      <th></th>\n",
       "      <th>SR</th>\n",
       "      <th>OVRL_raw</th>\n",
       "      <th>OVRL</th>\n",
       "      <th>PESQ</th>\n",
       "      <th>STOI</th>\n",
       "      <th>SISDR</th>\n",
       "    </tr>\n",
       "  </thead>\n",
       "  <tbody>\n",
       "    <tr>\n",
       "      <th>count</th>\n",
       "      <td>3.0</td>\n",
       "      <td>3.0</td>\n",
       "      <td>3.000000</td>\n",
       "      <td>3.000000</td>\n",
       "      <td>3.000000</td>\n",
       "      <td>3.000000</td>\n",
       "    </tr>\n",
       "    <tr>\n",
       "      <th>mean</th>\n",
       "      <td>16000.0</td>\n",
       "      <td>0.5</td>\n",
       "      <td>0.600000</td>\n",
       "      <td>0.500000</td>\n",
       "      <td>0.333333</td>\n",
       "      <td>0.566667</td>\n",
       "    </tr>\n",
       "    <tr>\n",
       "      <th>std</th>\n",
       "      <td>0.0</td>\n",
       "      <td>0.2</td>\n",
       "      <td>0.264575</td>\n",
       "      <td>0.458258</td>\n",
       "      <td>0.321455</td>\n",
       "      <td>0.251661</td>\n",
       "    </tr>\n",
       "    <tr>\n",
       "      <th>min</th>\n",
       "      <td>16000.0</td>\n",
       "      <td>0.3</td>\n",
       "      <td>0.400000</td>\n",
       "      <td>0.000000</td>\n",
       "      <td>0.100000</td>\n",
       "      <td>0.300000</td>\n",
       "    </tr>\n",
       "    <tr>\n",
       "      <th>25%</th>\n",
       "      <td>16000.0</td>\n",
       "      <td>0.4</td>\n",
       "      <td>0.450000</td>\n",
       "      <td>0.300000</td>\n",
       "      <td>0.150000</td>\n",
       "      <td>0.450000</td>\n",
       "    </tr>\n",
       "    <tr>\n",
       "      <th>50%</th>\n",
       "      <td>16000.0</td>\n",
       "      <td>0.5</td>\n",
       "      <td>0.500000</td>\n",
       "      <td>0.600000</td>\n",
       "      <td>0.200000</td>\n",
       "      <td>0.600000</td>\n",
       "    </tr>\n",
       "    <tr>\n",
       "      <th>75%</th>\n",
       "      <td>16000.0</td>\n",
       "      <td>0.6</td>\n",
       "      <td>0.700000</td>\n",
       "      <td>0.750000</td>\n",
       "      <td>0.450000</td>\n",
       "      <td>0.700000</td>\n",
       "    </tr>\n",
       "    <tr>\n",
       "      <th>max</th>\n",
       "      <td>16000.0</td>\n",
       "      <td>0.7</td>\n",
       "      <td>0.900000</td>\n",
       "      <td>0.900000</td>\n",
       "      <td>0.700000</td>\n",
       "      <td>0.800000</td>\n",
       "    </tr>\n",
       "  </tbody>\n",
       "</table>\n",
       "</div>"
      ],
      "text/plain": [
       "            SR  OVRL_raw      OVRL      PESQ      STOI     SISDR\n",
       "count      3.0       3.0  3.000000  3.000000  3.000000  3.000000\n",
       "mean   16000.0       0.5  0.600000  0.500000  0.333333  0.566667\n",
       "std        0.0       0.2  0.264575  0.458258  0.321455  0.251661\n",
       "min    16000.0       0.3  0.400000  0.000000  0.100000  0.300000\n",
       "25%    16000.0       0.4  0.450000  0.300000  0.150000  0.450000\n",
       "50%    16000.0       0.5  0.500000  0.600000  0.200000  0.600000\n",
       "75%    16000.0       0.6  0.700000  0.750000  0.450000  0.700000\n",
       "max    16000.0       0.7  0.900000  0.900000  0.700000  0.800000"
      ]
     },
     "execution_count": 8,
     "metadata": {},
     "output_type": "execute_result"
    }
   ],
   "source": [
    "df.describe()"
   ]
  },
  {
   "cell_type": "code",
   "execution_count": 7,
   "metadata": {},
   "outputs": [],
   "source": [
    "df_mean = df.mean(numeric_only=True)"
   ]
  },
  {
   "cell_type": "code",
   "execution_count": null,
   "metadata": {},
   "outputs": [],
   "source": [
    "writer = SummaryWriter(log_dir=\".\")"
   ]
  },
  {
   "cell_type": "code",
   "execution_count": null,
   "metadata": {},
   "outputs": [],
   "source": [
    "for label, content in df_mean.items():\n",
    "    writer.add_scalar(f\"metrics/{label}\", content, global_step=0)"
   ]
  }
 ],
 "metadata": {
  "kernelspec": {
   "display_name": "Python 3",
   "language": "python",
   "name": "python3"
  },
  "language_info": {
   "codemirror_mode": {
    "name": "ipython",
    "version": 3
   },
   "file_extension": ".py",
   "mimetype": "text/x-python",
   "name": "python",
   "nbconvert_exporter": "python",
   "pygments_lexer": "ipython3",
   "version": "3.10.8 | packaged by conda-forge | (main, Nov 22 2022, 08:26:04) [GCC 10.4.0]"
  },
  "orig_nbformat": 4,
  "vscode": {
   "interpreter": {
    "hash": "3e89b9c6499698fbd9a72962f47cc0b4e36c25392410ab5db092a97f8a3d2ef4"
   }
  }
 },
 "nbformat": 4,
 "nbformat_minor": 2
}
