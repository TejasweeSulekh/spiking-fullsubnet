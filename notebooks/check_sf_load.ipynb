{
 "cells": [
  {
   "cell_type": "code",
   "execution_count": 10,
   "metadata": {},
   "outputs": [],
   "source": [
    "import numpy as np\n",
    "import soundfile as sf\n",
    "import librosa\n",
    "from pathlib import Path"
   ]
  },
  {
   "cell_type": "code",
   "execution_count": 11,
   "metadata": {},
   "outputs": [],
   "source": [
    "dataset_list = [line.rstrip(\"\\n\") for line in open(\"wav.log\", \"r\")]"
   ]
  },
  {
   "cell_type": "code",
   "execution_count": 12,
   "metadata": {},
   "outputs": [],
   "source": [
    "def _load_wav(path, duration=None, sr=None):\n",
    "    if isinstance(path, Path):\n",
    "        path = str(path)\n",
    "\n",
    "    with sf.SoundFile(path) as sf_desc:\n",
    "        orig_sr = sf_desc.samplerate\n",
    "\n",
    "        if duration is not None:\n",
    "            frame_orig_duration = sf_desc.frames\n",
    "            frame_duration = int(duration * orig_sr)\n",
    "            if frame_duration < frame_orig_duration:\n",
    "                # Randomly select a segment\n",
    "                offset = np.random.randint(frame_orig_duration - frame_duration)\n",
    "                sf_desc.seek(offset)\n",
    "                y = sf_desc.read(\n",
    "                    frames=frame_duration, dtype=np.float32, always_2d=True\n",
    "                ).T\n",
    "            else:\n",
    "                y = sf_desc.read(dtype=np.float32, always_2d=True).T  # [C, T]\n",
    "                y = np.pad(\n",
    "                    y, ((0, 0), (0, frame_duration - frame_orig_duration)), \"wrap\"\n",
    "                )\n",
    "        else:\n",
    "            y = sf_desc.read(dtype=np.float32, always_2d=True).T\n",
    "\n",
    "    if y.shape[0] == 1:\n",
    "        y = y[0]\n",
    "\n",
    "    if sr is not None:\n",
    "        y = librosa.resample(y, orig_sr=orig_sr, target_sr=sr)\n",
    "    else:\n",
    "        sr = orig_sr\n",
    "\n",
    "    return y, sr"
   ]
  },
  {
   "cell_type": "code",
   "execution_count": 13,
   "metadata": {},
   "outputs": [
    {
     "name": "stdout",
     "output_type": "stream",
     "text": [
      "(160000,)\n",
      "(160000,)\n",
      "(160000,)\n",
      "(160000,)\n",
      "(160000,)\n",
      "(160000,)\n",
      "(160000,)\n",
      "(160000,)\n",
      "(160000,)\n",
      "(160000,)\n",
      "(160000,)\n",
      "(160000,)\n",
      "(160000,)\n",
      "(160000,)\n",
      "(160000,)\n",
      "(160000,)\n",
      "(160000,)\n",
      "(160000,)\n",
      "(160000,)\n",
      "(160000,)\n",
      "(160000,)\n",
      "(160000,)\n",
      "(160000,)\n",
      "(160000,)\n",
      "(160000,)\n",
      "(160000,)\n",
      "(160000,)\n",
      "(160000,)\n",
      "(160000,)\n",
      "(160000,)\n",
      "(160000,)\n",
      "(160000,)\n",
      "(160000,)\n",
      "(160000,)\n",
      "(160000,)\n",
      "(160000,)\n",
      "(160000,)\n",
      "(160000,)\n",
      "(160000,)\n",
      "(160000,)\n",
      "(160000,)\n",
      "(160000,)\n",
      "(160000,)\n",
      "(160000,)\n",
      "(160000,)\n",
      "(160000,)\n",
      "(160000,)\n",
      "(160000,)\n",
      "(160000,)\n",
      "(160000,)\n",
      "(160000,)\n",
      "(160000,)\n",
      "(160000,)\n",
      "(160000,)\n",
      "(160000,)\n",
      "(160000,)\n",
      "(160000,)\n",
      "(160000,)\n",
      "(160000,)\n",
      "(160000,)\n"
     ]
    }
   ],
   "source": [
    "for i in dataset_list:\n",
    "    data, sr = _load_wav(i, duration=10.0, sr=16000)\n",
    "    print(data.shape)"
   ]
  },
  {
   "cell_type": "code",
   "execution_count": null,
   "metadata": {},
   "outputs": [],
   "source": []
  }
 ],
 "metadata": {
  "kernelspec": {
   "display_name": "audiozen",
   "language": "python",
   "name": "python3"
  },
  "language_info": {
   "codemirror_mode": {
    "name": "ipython",
    "version": 3
   },
   "file_extension": ".py",
   "mimetype": "text/x-python",
   "name": "python",
   "nbconvert_exporter": "python",
   "pygments_lexer": "ipython3",
   "version": "3.10.8"
  },
  "orig_nbformat": 4,
  "vscode": {
   "interpreter": {
    "hash": "64f040e735add7b545e9b6e9aa4a58dbf70955a40e720afe620fefa9457a301a"
   }
  }
 },
 "nbformat": 4,
 "nbformat_minor": 2
}
