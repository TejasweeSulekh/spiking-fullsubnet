{
 "cells": [
  {
   "cell_type": "code",
   "execution_count": 1,
   "metadata": {},
   "outputs": [],
   "source": [
    "synops = 362112\n",
    "neuronops = 3208\n",
    "buffer_latency = 0.016\n",
    "enc_dec_latency = 0.000036\n",
    "dns_latency = 0\n",
    "dt = buffer_latency"
   ]
  },
  {
   "cell_type": "code",
   "execution_count": 2,
   "metadata": {},
   "outputs": [
    {
     "name": "stdout",
     "output_type": "stream",
     "text": [
      "394192\n",
      "Solution Latency                 :  16.036 ms\n",
      "Power proxy (Effective SynOPS)   : 24637000.000 ops/s\n",
      "PDP proxy (SynOPS-delay product) :  395078.932 ops\n"
     ]
    }
   ],
   "source": [
    "latency = buffer_latency + enc_dec_latency + dns_latency\n",
    "effective_synops_rate = (synops + 10 * neuronops) / dt\n",
    "synops_delay_product = effective_synops_rate * latency\n",
    "\n",
    "print(synops + 10 * neuronops)\n",
    "print(f'Solution Latency                 : {latency * 1000: .3f} ms')\n",
    "print(f'Power proxy (Effective SynOPS)   : {effective_synops_rate:.3f} ops/s')\n",
    "print(f'PDP proxy (SynOPS-delay product) : {synops_delay_product: .3f} ops')"
   ]
  },
  {
   "cell_type": "code",
   "execution_count": null,
   "metadata": {},
   "outputs": [],
   "source": []
  }
 ],
 "metadata": {
  "kernelspec": {
   "display_name": "audiozen",
   "language": "python",
   "name": "python3"
  },
  "language_info": {
   "codemirror_mode": {
    "name": "ipython",
    "version": 3
   },
   "file_extension": ".py",
   "mimetype": "text/x-python",
   "name": "python",
   "nbconvert_exporter": "python",
   "pygments_lexer": "ipython3",
   "version": "3.10.11"
  },
  "orig_nbformat": 4
 },
 "nbformat": 4,
 "nbformat_minor": 2
}
