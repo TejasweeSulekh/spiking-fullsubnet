{
 "cells": [
  {
   "cell_type": "code",
   "execution_count": 1,
   "metadata": {},
   "outputs": [
    {
     "name": "stderr",
     "output_type": "stream",
     "text": [
      "/home/xianghao/mambaforge/envs/audiozen/lib/python3.10/site-packages/tqdm/auto.py:21: TqdmWarning: IProgress not found. Please update jupyter and ipywidgets. See https://ipywidgets.readthedocs.io/en/stable/user_install.html\n",
      "  from .autonotebook import tqdm as notebook_tqdm\n"
     ]
    }
   ],
   "source": [
    "import torch"
   ]
  },
  {
   "cell_type": "code",
   "execution_count": 6,
   "metadata": {},
   "outputs": [
    {
     "data": {
      "text/plain": [
       "tensor([100, 100, 100, 100])"
      ]
     },
     "execution_count": 6,
     "metadata": {},
     "output_type": "execute_result"
    }
   ],
   "source": [
    "a = torch.tensor([100, 100])\n",
    "torch.cat((a, a))"
   ]
  },
  {
   "cell_type": "code",
   "execution_count": 3,
   "metadata": {},
   "outputs": [
    {
     "name": "stderr",
     "output_type": "stream",
     "text": [
      "/tmp/ipykernel_988879/231343347.py:11: UserWarning: GPU is not NVIDIA V100, A100, or H100. Speedup numbers may be lower than expected.\n",
      "  warnings.warn(\n"
     ]
    }
   ],
   "source": [
    "import torch\n",
    "import warnings\n",
    "\n",
    "gpu_ok = False\n",
    "if torch.cuda.is_available():\n",
    "    device_cap = torch.cuda.get_device_capability()\n",
    "    if device_cap in ((7, 0), (8, 0), (9, 0)):\n",
    "        gpu_ok = True\n",
    "\n",
    "if not gpu_ok:\n",
    "    warnings.warn(\n",
    "        \"GPU is not NVIDIA V100, A100, or H100. Speedup numbers may be lower \"\n",
    "        \"than expected.\"\n",
    "    )"
   ]
  },
  {
   "cell_type": "code",
   "execution_count": 5,
   "metadata": {},
   "outputs": [
    {
     "name": "stdout",
     "output_type": "stream",
     "text": [
      "tensor([[ 0.8103,  0.9631, -0.3676,  0.3113,  0.5731, -1.2612,  0.1141,  1.5356,\n",
      "          0.4457,  1.3037],\n",
      "        [ 0.6766, -0.7313,  1.5326, -0.0868,  1.5328, -0.1321,  0.2130, -0.7927,\n",
      "          0.3467,  0.7851],\n",
      "        [ 0.7983,  1.6429,  1.4879,  0.4579,  1.2212,  1.3343,  1.1790,  0.5710,\n",
      "          0.5642,  0.0731],\n",
      "        [-0.0299,  1.1606,  1.3927,  0.1790,  1.8765,  0.8408,  1.9081,  0.5629,\n",
      "         -0.3948,  0.5845],\n",
      "        [-0.0482,  1.7642, -1.1217, -0.0128,  0.9958,  0.9323,  0.1348, -0.4046,\n",
      "         -1.3030,  0.2622],\n",
      "        [ 0.9947, -0.7500,  0.1976,  1.9425,  0.3682,  1.3007,  0.9430,  0.4806,\n",
      "          1.0584, -1.1749],\n",
      "        [ 0.4306, -0.0361,  0.8309,  1.7428,  1.6038,  0.6166,  0.0353,  0.0937,\n",
      "         -0.5297, -0.0297],\n",
      "        [ 0.3414,  0.5691,  0.3518,  0.1262,  0.8642,  0.9655,  1.3348, -0.5118,\n",
      "          1.5817,  1.4592],\n",
      "        [ 0.5758,  0.9706,  1.4615, -0.1973,  0.8133,  0.3120, -0.6051, -0.2057,\n",
      "         -0.5484, -0.7937],\n",
      "        [-0.9046, -0.2781,  1.9363,  0.7683,  0.2211,  1.8725,  0.2398,  0.0279,\n",
      "          0.5549,  1.9086]])\n"
     ]
    }
   ],
   "source": [
    "@torch.compile\n",
    "def opt_foo2(x, y):\n",
    "    a = torch.sin(x)\n",
    "    b = torch.cos(y)\n",
    "    return a + b\n",
    "print(opt_foo2(torch.randn(10, 10), torch.randn(10, 10)))"
   ]
  },
  {
   "cell_type": "code",
   "execution_count": 6,
   "metadata": {},
   "outputs": [
    {
     "name": "stdout",
     "output_type": "stream",
     "text": [
      "tensor([[0.0000, 0.0000, 0.6456, 0.0619, 0.0000, 0.3830, 0.7172, 1.0687, 0.0000,\n",
      "         1.1809],\n",
      "        [0.0979, 0.0000, 0.0282, 0.0000, 0.2532, 0.2467, 0.0000, 0.0000, 0.0000,\n",
      "         0.0219],\n",
      "        [0.0000, 0.0000, 0.0000, 0.0000, 0.1116, 0.3227, 0.7968, 0.0000, 0.0000,\n",
      "         1.3741],\n",
      "        [0.0783, 0.0000, 0.0000, 0.1108, 0.3378, 0.7983, 0.2942, 0.0000, 0.6233,\n",
      "         0.0000],\n",
      "        [0.3660, 0.0000, 0.7043, 0.0000, 0.8325, 0.3494, 0.7520, 0.0000, 0.0000,\n",
      "         0.0000],\n",
      "        [0.9026, 0.7470, 0.0000, 0.0000, 0.3358, 0.0000, 0.5430, 0.5496, 0.0000,\n",
      "         0.1164],\n",
      "        [1.0289, 0.5011, 0.0000, 0.0382, 0.4915, 0.0000, 0.0000, 0.5203, 0.0000,\n",
      "         0.0925],\n",
      "        [0.0000, 0.0000, 0.0000, 0.0406, 0.4584, 0.0000, 0.0000, 0.0000, 0.8766,\n",
      "         0.0000],\n",
      "        [0.2017, 0.1146, 0.0357, 0.6593, 0.0000, 0.3083, 0.0000, 0.0000, 0.1661,\n",
      "         0.9491],\n",
      "        [0.0000, 0.3532, 0.0692, 0.8965, 0.0000, 0.4996, 0.2664, -0.0000, 0.4279,\n",
      "         -0.0000]], grad_fn=<CompiledFunctionBackward>)\n"
     ]
    }
   ],
   "source": [
    "class MyModule(torch.nn.Module):\n",
    "    def __init__(self):\n",
    "        super().__init__()\n",
    "        self.lin = torch.nn.Linear(100, 10)\n",
    "\n",
    "    def forward(self, x):\n",
    "        return torch.nn.functional.relu(self.lin(x))\n",
    "\n",
    "mod = MyModule()\n",
    "opt_mod = torch.compile(mod)\n",
    "print(opt_mod(torch.randn(10, 100)))"
   ]
  },
  {
   "cell_type": "code",
   "execution_count": null,
   "metadata": {},
   "outputs": [],
   "source": []
  }
 ],
 "metadata": {
  "kernelspec": {
   "display_name": "audiozen",
   "language": "python",
   "name": "python3"
  },
  "language_info": {
   "codemirror_mode": {
    "name": "ipython",
    "version": 3
   },
   "file_extension": ".py",
   "mimetype": "text/x-python",
   "name": "python",
   "nbconvert_exporter": "python",
   "pygments_lexer": "ipython3",
   "version": "3.10.12"
  },
  "orig_nbformat": 4
 },
 "nbformat": 4,
 "nbformat_minor": 2
}
