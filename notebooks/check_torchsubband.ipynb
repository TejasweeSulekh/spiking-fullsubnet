{
 "cells": [
  {
   "cell_type": "code",
   "execution_count": 1,
   "metadata": {},
   "outputs": [
    {
     "name": "stderr",
     "output_type": "stream",
     "text": [
      "/data/ssp/haoxiang/mambaforge/envs/audiozen/lib/python3.10/site-packages/tqdm/auto.py:22: TqdmWarning: IProgress not found. Please update jupyter and ipywidgets. See https://ipywidgets.readthedocs.io/en/stable/user_install.html\n",
      "  from .autonotebook import tqdm as notebook_tqdm\n"
     ]
    }
   ],
   "source": [
    "from torchsubband import SubbandDSP\n",
    "import torch"
   ]
  },
  {
   "cell_type": "code",
   "execution_count": 2,
   "metadata": {},
   "outputs": [
    {
     "name": "stderr",
     "output_type": "stream",
     "text": [
      "/data/ssp/haoxiang/mambaforge/envs/audiozen/lib/python3.10/site-packages/torchlibrosa/stft.py:193: FutureWarning: Pass size=1024 as keyword args. From version 0.10 passing these as positional arguments will result in an error\n",
      "  fft_window = librosa.util.pad_center(fft_window, n_fft)\n",
      "/data/ssp/haoxiang/mambaforge/envs/audiozen/lib/python3.10/site-packages/torchlibrosa/stft.py:344: FutureWarning: Pass size=1024 as keyword args. From version 0.10 passing these as positional arguments will result in an error\n",
      "  ifft_window = librosa.util.pad_center(ifft_window, self.n_fft)\n",
      "/data/ssp/haoxiang/mambaforge/envs/audiozen/lib/python3.10/site-packages/torchlibrosa/stft.py:362: FutureWarning: Pass size=1024 as keyword args. From version 0.10 passing these as positional arguments will result in an error\n",
      "  ola_window = librosa.util.pad_center(ola_window, self.n_fft)\n"
     ]
    }
   ],
   "source": [
    "model = SubbandDSP(subband=2) # You can choose 1,2,4, or 8 \n",
    "batchsize=3 # any int number\n",
    "channel=1 # any int number\n",
    "length = 44100*2 # any int number\n",
    "input = torch.randn((batchsize,channel,length))"
   ]
  },
  {
   "cell_type": "code",
   "execution_count": 3,
   "metadata": {},
   "outputs": [],
   "source": [
    "subwav = model.wav_to_sub(input)"
   ]
  },
  {
   "cell_type": "code",
   "execution_count": 4,
   "metadata": {},
   "outputs": [
    {
     "data": {
      "text/plain": [
       "torch.Size([3, 2, 44132])"
      ]
     },
     "execution_count": 4,
     "metadata": {},
     "output_type": "execute_result"
    }
   ],
   "source": [
    "subwav.shape"
   ]
  },
  {
   "cell_type": "code",
   "execution_count": 5,
   "metadata": {},
   "outputs": [],
   "source": [
    "sub_spec,cos,sin = model.wav_to_mag_phase_sub_spec(input)"
   ]
  },
  {
   "cell_type": "code",
   "execution_count": 6,
   "metadata": {},
   "outputs": [
    {
     "data": {
      "text/plain": [
       "torch.Size([3, 2, 201, 513])"
      ]
     },
     "execution_count": 6,
     "metadata": {},
     "output_type": "execute_result"
    }
   ],
   "source": [
    "sub_spec.shape"
   ]
  }
 ],
 "metadata": {
  "kernelspec": {
   "display_name": "audiozen",
   "language": "python",
   "name": "python3"
  },
  "language_info": {
   "codemirror_mode": {
    "name": "ipython",
    "version": 3
   },
   "file_extension": ".py",
   "mimetype": "text/x-python",
   "name": "python",
   "nbconvert_exporter": "python",
   "pygments_lexer": "ipython3",
   "version": "3.10.8"
  },
  "orig_nbformat": 4,
  "vscode": {
   "interpreter": {
    "hash": "64f040e735add7b545e9b6e9aa4a58dbf70955a40e720afe620fefa9457a301a"
   }
  }
 },
 "nbformat": 4,
 "nbformat_minor": 2
}
